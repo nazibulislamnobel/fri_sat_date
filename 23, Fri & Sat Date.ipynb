{
 "cells": [
  {
   "cell_type": "code",
   "execution_count": 5,
   "id": "bf9d2299",
   "metadata": {},
   "outputs": [],
   "source": [
    "import openpyxl\n",
    "from datetime import date, timedelta\n",
    "\n",
    "workbook = openpyxl.Workbook()\n",
    "worksheet = workbook.active\n",
    "\n",
    "worksheet.cell(row=1, column=1, value='Date')\n",
    "worksheet.cell(row=1, column=2, value='Day')\n",
    "\n",
    "start_date = date(2023, 1, 1)\n",
    "end_date = date(2023, 12, 31)\n",
    "\n",
    "current_date = start_date\n",
    "row_index = 2\n",
    "while current_date <= end_date:\n",
    "\n",
    "    day_of_week = current_date.strftime('%A')\n",
    "    if day_of_week == 'Friday' or day_of_week == 'Saturday':\n",
    "\n",
    "        worksheet.cell(row=row_index, column=1, value=current_date)\n",
    "        worksheet.cell(row=row_index, column=2, value=day_of_week)\n",
    "        row_index += 1\n",
    "\n",
    "    current_date += timedelta(days=1)\n",
    "\n",
    "workbook.save('C:\\\\Nobel\\\\fridays_and_saturdays_2023.xlsx')"
   ]
  }
 ],
 "metadata": {
  "kernelspec": {
   "display_name": "Python 3 (ipykernel)",
   "language": "python",
   "name": "python3"
  },
  "language_info": {
   "codemirror_mode": {
    "name": "ipython",
    "version": 3
   },
   "file_extension": ".py",
   "mimetype": "text/x-python",
   "name": "python",
   "nbconvert_exporter": "python",
   "pygments_lexer": "ipython3",
   "version": "3.10.9"
  }
 },
 "nbformat": 4,
 "nbformat_minor": 5
}
